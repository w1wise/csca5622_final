{
    "cells": [
        {
            "cell_type": "markdown",
            "metadata": {},
            "source": [
                "# Predicting Antibody Binding from Amino Acid Sequences\n",
                "\n",
                "## Environment Setup and Project Structure\n",
                "\n",
                "This notebook verifies the environment setup and project structure for the antibody binding prediction project."
            ]
        },
        {
            "cell_type": "markdown",
            "metadata": {},
            "source": [
                "## 1. Verify Python Environment"
            ]
        },
        {
            "cell_type": "code",
            "execution_count": 1,
            "metadata": {},
            "outputs": [
                {
                    "name": "stdout",
                    "output_type": "stream",
                    "text": [
                        "Python version: 3.10.16 (main, Apr 29 2025, 11:15:06) [Clang 17.0.0 (clang-1700.0.13.3)]\n",
                        "Current working directory: /Users/wendwise/dev/Home/UCB/Final_Project/notebooks\n",
                        "No conda environment detected. Using system Python or a non-conda virtual environment.\n"
                    ]
                }
            ],
            "source": [
                "# Check Python version\n",
                "import sys\n",
                "print(f\"Python version: {sys.version}\")\n",
                "\n",
                "# Check if we're in the correct environment\n",
                "import os\n",
                "print(f\"Current working directory: {os.getcwd()}\")\n",
                "\n",
                "# Check if conda environment is active (if using conda)\n",
                "conda_env = os.environ.get('CONDA_DEFAULT_ENV')\n",
                "if conda_env:\n",
                "    print(f\"Active conda environment: {conda_env}\")\n",
                "else:\n",
                "    print(\"No conda environment detected. Using system Python or a non-conda virtual environment.\")"
            ]
        },
        {
            "cell_type": "markdown",
            "metadata": {},
            "source": [
                "## 2. Verify Required Libraries"
            ]
        },
        {
            "cell_type": "code",
            "execution_count": 2,
            "metadata": {},
            "outputs": [
                {
                    "name": "stdout",
                    "output_type": "stream",
                    "text": [
                        "numpy: 2.2.6\n",
                        "pandas: 2.2.3\n",
                        "scipy: 1.15.3\n",
                        "matplotlib: 3.10.3\n",
                        "seaborn: 0.13.2\n",
                        "plotly: Not installed\n",
                        "scikit-learn: Not installed\n",
                        "xgboost: Not installed\n",
                        "lightgbm: Not installed\n",
                        "tensorflow: Not installed\n",
                        "keras: Not installed\n",
                        "biopython: Not installed\n",
                        "biotite: Not installed\n",
                        "datasets: 4.0.0\n",
                        "huggingface_hub: 0.33.4\n",
                        "tqdm: 4.67.1\n",
                        "ipywidgets: 8.1.7\n",
                        "statsmodels: Not installed\n",
                        "umap: Not installed\n"
                    ]
                }
            ],
            "source": [
                "# Function to check if a package is installed and get its version\n",
                "def check_package(package_name):\n",
                "    try:\n",
                "        package = __import__(package_name)\n",
                "        if hasattr(package, '__version__'):\n",
                "            return f\"{package_name}: {package.__version__}\"\n",
                "        else:\n",
                "            return f\"{package_name}: Installed (version unknown)\"\n",
                "    except ImportError:\n",
                "        return f\"{package_name}: Not installed\"\n",
                "\n",
                "# List of required packages\n",
                "required_packages = [\n",
                "    'numpy', 'pandas', 'scipy', 'matplotlib', 'seaborn', 'plotly',\n",
                "    'scikit-learn', 'xgboost', 'lightgbm', 'tensorflow', 'keras',\n",
                "    'biopython', 'biotite', 'datasets', 'huggingface_hub',\n",
                "    'tqdm', 'ipywidgets', 'statsmodels', 'umap'\n",
                "]\n",
                "\n",
                "# Check each package\n",
                "for package in required_packages:\n",
                "    print(check_package(package))"
            ]
        },
        {
            "cell_type": "markdown",
            "metadata": {},
            "source": [
                "## 3. Verify Project Structure"
            ]
        },
        {
            "cell_type": "code",
            "execution_count": 3,
            "metadata": {},
            "outputs": [
                {
                    "name": "stdout",
                    "output_type": "stream",
                    "text": [
                        "Project root directory: /Users/wendwise/dev/Home/UCB/Final_Project\n",
                        "\n",
                        "Project structure:\n",
                        "Final_Project/\n",
                        "    .DS_Store\n",
                        "    requirements.txt\n",
                        "    environment.yml\n",
                        "    README.md\n",
                        "    .gitignore\n",
                        "    results/\n",
                        "        models/\n",
                        "            .gitkeep\n",
                        "        figures/\n",
                        "            .gitkeep\n",
                        "    .kiro/\n",
                        "        specs/\n",
                        "            supervised-learning-project/\n",
                        "                requirements.md\n",
                        "                tasks.md\n",
                        "                design.md\n",
                        "    .git/\n",
                        "        config\n",
                        "        HEAD\n",
                        "        description\n",
                        "        index\n",
                        "        COMMIT_EDITMSG\n",
                        "        objects/\n",
                        "            0d/\n",
                        "                19c50820d668a35c134f14ceb14c259bf48d6e\n",
                        "            d0/\n",
                        "                77e545885488ff113c00aaee1ab2a92d105dac\n",
                        "            pack/\n",
                        "            45/\n",
                        "                9dd354cdbeb1cb4d98d41d099b9720a626276c\n",
                        "            26/\n",
                        "                602d18f0201eba8658571ef1e5901d0a779519\n",
                        "            info/\n",
                        "            e6/\n",
                        "                9de29bb2d1d6434b8b29ae775ad8c2e48c5391\n",
                        "            13/\n",
                        "                0c5513822e2db3f42d2f4bffbaf2bdd0e79699\n",
                        "            7a/\n",
                        "                c13b36298672dee05fe14e78bd6351f09476a6\n",
                        "        info/\n",
                        "            exclude\n",
                        "        logs/\n",
                        "            HEAD\n",
                        "            refs/\n",
                        "        hooks/\n",
                        "            commit-msg.sample\n",
                        "            pre-rebase.sample\n",
                        "            pre-commit.sample\n",
                        "            applypatch-msg.sample\n",
                        "            fsmonitor-watchman.sample\n",
                        "            pre-receive.sample\n",
                        "            prepare-commit-msg.sample\n",
                        "            post-update.sample\n",
                        "            pre-merge-commit.sample\n",
                        "            pre-applypatch.sample\n",
                        "            pre-push.sample\n",
                        "            update.sample\n",
                        "            push-to-checkout.sample\n",
                        "        refs/\n",
                        "            heads/\n",
                        "                main\n",
                        "            tags/\n",
                        "            remotes/\n",
                        "    data/\n",
                        "        processed/\n",
                        "            .gitkeep\n",
                        "        raw/\n",
                        "            test.csv\n",
                        "            .gitkeep\n",
                        "            data.csv\n",
                        "            train.csv\n",
                        "    notebooks/\n",
                        "        setup_environment.ipynb\n",
                        "        02_data_preprocessing_and_cleaning.ipynb\n",
                        "        01_initial_setup_and_data_exploration.ipynb\n",
                        "        03_feature_engineering.ipynb\n",
                        "        00_data_acquisition.ipynb\n",
                        "    src/\n",
                        "        visualization/\n",
                        "            README.md\n",
                        "        features/\n",
                        "            README.md\n",
                        "        models/\n",
                        "            README.md\n",
                        "        data/\n",
                        "            README.md\n"
                    ]
                }
            ],
            "source": [
                "import os\n",
                "\n",
                "# Function to display directory structure\n",
                "def display_directory_structure(startpath, max_depth=3):\n",
                "    for root, dirs, files in os.walk(startpath):\n",
                "        level = root.replace(startpath, '').count(os.sep)\n",
                "        if level > max_depth:\n",
                "            continue\n",
                "        indent = ' ' * 4 * level\n",
                "        print(f\"{indent}{os.path.basename(root)}/\")\n",
                "        sub_indent = ' ' * 4 * (level + 1)\n",
                "        for f in files:\n",
                "            print(f\"{sub_indent}{f}\")\n",
                "\n",
                "# Get the project root directory (assuming this notebook is in the notebooks directory)\n",
                "project_root = os.path.abspath(os.path.join(os.getcwd(), os.pardir))\n",
                "print(f\"Project root directory: {project_root}\")\n",
                "print(\"\\nProject structure:\")\n",
                "display_directory_structure(project_root)"
            ]
        },
        {
            "cell_type": "markdown",
            "metadata": {},
            "source": [
                "## 4. Create Helper Functions for Project"
            ]
        },
        {
            "cell_type": "code",
            "execution_count": 4,
            "metadata": {},
            "outputs": [
                {
                    "name": "stdout",
                    "output_type": "stream",
                    "text": [
                        "Directory exists: /Users/wendwise/dev/Home/UCB/Final_Project/data/raw\n",
                        "Directory exists: /Users/wendwise/dev/Home/UCB/Final_Project/data/processed\n",
                        "Directory exists: /Users/wendwise/dev/Home/UCB/Final_Project/results\n",
                        "Directory exists: /Users/wendwise/dev/Home/UCB/Final_Project/results/figures\n",
                        "Directory exists: /Users/wendwise/dev/Home/UCB/Final_Project/results/models\n"
                    ]
                }
            ],
            "source": [
                "# Define paths\n",
                "DATA_RAW_DIR = os.path.join(project_root, 'data', 'raw')\n",
                "DATA_PROCESSED_DIR = os.path.join(project_root, 'data', 'processed')\n",
                "RESULTS_DIR = os.path.join(project_root, 'results')\n",
                "FIGURES_DIR = os.path.join(RESULTS_DIR, 'figures')\n",
                "MODELS_DIR = os.path.join(RESULTS_DIR, 'models')\n",
                "\n",
                "# Ensure all directories exist\n",
                "for directory in [DATA_RAW_DIR, DATA_PROCESSED_DIR, RESULTS_DIR, FIGURES_DIR, MODELS_DIR]:\n",
                "    os.makedirs(directory, exist_ok=True)\n",
                "    print(f\"Directory exists: {directory}\")"
            ]
        },
        {
            "cell_type": "markdown",
            "metadata": {},
            "source": [
                "## 5. Create Utility Functions for Data Loading"
            ]
        },
        {
            "cell_type": "code",
            "execution_count": 5,
            "metadata": {},
            "outputs": [
                {
                    "name": "stdout",
                    "output_type": "stream",
                    "text": [
                        "Train data shape: (49685, 6)\n",
                        "Test data shape: (27318, 6)\n"
                    ]
                }
            ],
            "source": [
                "import pandas as pd\n",
                "\n",
                "def load_data(split='train'):\n",
                "    \"\"\"Load data from CSV files.\n",
                "    \n",
                "    Parameters\n",
                "    ----------\n",
                "    split : str, optional\n",
                "        Which data split to load ('train' or 'test'), by default 'train'\n",
                "    \n",
                "    Returns\n",
                "    -------\n",
                "    pandas.DataFrame\n",
                "        The loaded data\n",
                "    \"\"\"\n",
                "    file_path = os.path.join(DATA_RAW_DIR, f\"{split}.csv\")\n",
                "    if os.path.exists(file_path):\n",
                "        return pd.read_csv(file_path)\n",
                "    else:\n",
                "        raise FileNotFoundError(f\"Data file not found: {file_path}\")\n",
                "\n",
                "def save_processed_data(df, name):\n",
                "    \"\"\"Save processed data to CSV.\n",
                "    \n",
                "    Parameters\n",
                "    ----------\n",
                "    df : pandas.DataFrame\n",
                "        The data to save\n",
                "    name : str\n",
                "        Name of the file (without extension)\n",
                "    \"\"\"\n",
                "    file_path = os.path.join(DATA_PROCESSED_DIR, f\"{name}.csv\")\n",
                "    df.to_csv(file_path, index=False)\n",
                "    print(f\"Data saved to {file_path}\")\n",
                "\n",
                "# Test loading the data\n",
                "try:\n",
                "    train_data = load_data('train')\n",
                "    test_data = load_data('test')\n",
                "    print(f\"Train data shape: {train_data.shape}\")\n",
                "    print(f\"Test data shape: {test_data.shape}\")\n",
                "except FileNotFoundError as e:\n",
                "    print(f\"Error: {e}\")"
            ]
        },
        {
            "cell_type": "markdown",
            "metadata": {},
            "source": [
                "## 6. Create Utility Functions for Visualization"
            ]
        },
        {
            "cell_type": "code",
            "execution_count": 6,
            "metadata": {},
            "outputs": [],
            "source": [
                "import matplotlib.pyplot as plt\n",
                "import seaborn as sns\n",
                "\n",
                "def save_figure(fig, filename):\n",
                "    \"\"\"Save a matplotlib figure to the figures directory.\n",
                "    \n",
                "    Parameters\n",
                "    ----------\n",
                "    fig : matplotlib.figure.Figure\n",
                "        The figure to save\n",
                "    filename : str\n",
                "        Name of the file (without extension)\n",
                "    \"\"\"\n",
                "    file_path = os.path.join(FIGURES_DIR, f\"{filename}.png\")\n",
                "    fig.savefig(file_path, dpi=300, bbox_inches='tight')\n",
                "    print(f\"Figure saved to {file_path}\")\n",
                "\n",
                "# Set default plotting style\n",
                "sns.set(style=\"whitegrid\")\n",
                "plt.rcParams['figure.figsize'] = (10, 6)\n",
                "plt.rcParams['font.size'] = 12"
            ]
        },
        {
            "cell_type": "markdown",
            "metadata": {},
            "source": [
                "## 7. Create Utility Functions for Model Saving and Loading"
            ]
        },
        {
            "cell_type": "code",
            "execution_count": 7,
            "metadata": {},
            "outputs": [],
            "source": [
                "import pickle\n",
                "import joblib\n",
                "\n",
                "def save_model(model, model_name):\n",
                "    \"\"\"Save a trained model to the models directory.\n",
                "    \n",
                "    Parameters\n",
                "    ----------\n",
                "    model : object\n",
                "        The trained model to save\n",
                "    model_name : str\n",
                "        Name of the model file (without extension)\n",
                "    \"\"\"\n",
                "    file_path = os.path.join(MODELS_DIR, f\"{model_name}.pkl\")\n",
                "    joblib.dump(model, file_path)\n",
                "    print(f\"Model saved to {file_path}\")\n",
                "\n",
                "def load_model(model_name):\n",
                "    \"\"\"Load a trained model from the models directory.\n",
                "    \n",
                "    Parameters\n",
                "    ----------\n",
                "    model_name : str\n",
                "        Name of the model file (without extension)\n",
                "    \n",
                "    Returns\n",
                "    -------\n",
                "    object\n",
                "        The loaded model\n",
                "    \"\"\"\n",
                "    file_path = os.path.join(MODELS_DIR, f\"{model_name}.pkl\")\n",
                "    if os.path.exists(file_path):\n",
                "        return joblib.load(file_path)\n",
                "    else:\n",
                "        raise FileNotFoundError(f\"Model file not found: {file_path}\")"
            ]
        },
        {
            "cell_type": "markdown",
            "metadata": {},
            "source": [
                "## 8. Summary\n",
                "\n",
                "The project environment has been set up with the following components:\n",
                "\n",
                "1. Verified Python environment and required libraries\n",
                "2. Confirmed project directory structure\n",
                "3. Created utility functions for:\n",
                "   - Data loading and saving\n",
                "   - Visualization and figure saving\n",
                "   - Model saving and loading\n",
                "\n",
                "The project is now ready for data acquisition, exploration, and model development."
            ]
        }
    ],
    "metadata": {
        "kernelspec": {
            "display_name": "Python 3",
            "language": "python",
            "name": "python3"
        },
        "language_info": {
            "codemirror_mode": {
                "name": "ipython",
                "version": 3
            },
            "file_extension": ".py",
            "mimetype": "text/x-python",
            "name": "python",
            "nbconvert_exporter": "python",
            "pygments_lexer": "ipython3",
            "version": "3.10.16"
        }
    },
    "nbformat": 4,
    "nbformat_minor": 4
}
